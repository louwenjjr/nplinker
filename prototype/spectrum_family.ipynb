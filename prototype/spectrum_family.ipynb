{
 "cells": [
  {
   "cell_type": "code",
   "execution_count": 7,
   "metadata": {},
   "outputs": [
    {
     "name": "stdout",
     "output_type": "stream",
     "text": [
      "MIBIG_JSON_DIR: G:/Dev/carnegie_nplinker_example/CarnegieDataForNPLinker/mibig_json\n",
      "MGF_FILE: G:/Dev/carnegie_nplinker_example/CarnegieDataForNPLinker/spectra\\METABOLOMICS-SNETS-2cdc2aa3-download_clustered_spectra-main.mgf\n",
      "ANNOTATION_FILES: G:/Dev/carnegie_nplinker_example/CarnegieDataForNPLinker/spectra\\derep.annotations.tsv\n",
      "EDGES_FILE: G:/Dev/carnegie_nplinker_example/CarnegieDataForNPLinker/spectra\\1eca77da22c84ae1aee490d0e4bc26f3.pairsinfo\n",
      "NODES_FILE: G:/Dev/carnegie_nplinker_example/CarnegieDataForNPLinker/spectra\\reformated.out\n"
     ]
    }
   ],
   "source": [
    "import sys\n",
    "#sys.path.append('/Users/simon/git/lda/code')\n",
    "\n",
    "from metabolomics import load_spectra\n",
    "from keras.models import load_model\n",
    "import numpy as np\n",
    "import pandas as pd\n",
    "\n",
    "from setup_paths import setup_paths\n",
    "root_dir = 'G:/Dev/carnegie_nplinker_example/CarnegieDataForNPLinker/'\n",
    "MIBIG_JSON_DIR,NODES_FILE,DEREP_ANNOTATIONS,MGF_FILE,EDGES_FILE,ROOT_PATH,ANTISMASH_DIR = setup_paths(root_dir)\n",
    "FOLDERS = ['NRPS','Others','PKSI','PKS-NRP_Hybrids','PKSother','RiPPs','Saccharides','Terpene']\n",
    "FOLDERS = ['NRPS']"
   ]
  },
  {
   "cell_type": "code",
   "execution_count": 21,
   "metadata": {},
   "outputs": [],
   "source": [
    "spec_fingerprint_model = load_model('../prediction_models/saved_spectrum_fingerprint_non_binary_model.h5')\n",
    "fingerprint_family_model = load_model('../prediction_models/saved_fingerprint_families_non_binary_model.h5')"
   ]
  },
  {
   "cell_type": "code",
   "execution_count": 9,
   "metadata": {},
   "outputs": [
    {
     "name": "stdout",
     "output_type": "stream",
     "text": [
      "Loaded 3125 molecules\n"
     ]
    }
   ],
   "source": [
    "spectra = load_spectra(MGF_FILE)"
   ]
  },
  {
   "cell_type": "code",
   "execution_count": 10,
   "metadata": {},
   "outputs": [
    {
     "name": "stdout",
     "output_type": "stream",
     "text": [
      "[(88.299004, 34.695), (89.059998, 67.724998), (133.085999, 131.283005), (190.518997, 1399.093018), (204.912994, 2232.0979), (213.080002, 2781.284912), (229.089005, 754.0), (241.074005, 926.260986), (284.070007, 1283.692017), (293.178009, 350.376007), (305.178009, 1886.754028), (307.194, 46.132)]\n"
     ]
    }
   ],
   "source": [
    "print(spectra[0].peaks)"
   ]
  },
  {
   "cell_type": "code",
   "execution_count": 29,
   "metadata": {},
   "outputs": [],
   "source": [
    "def load_master_file(spectra, number_of_bins = 1000):\n",
    "    MAX_MASS = 1000\n",
    "    BIN_SIZE = 1\n",
    "    \n",
    "    mol_ids = range(0, len(spectra))\n",
    "    # Construct empty Pandas dataframe of correct size.\n",
    "    # Number of rows is equal to the number of unique molecules (found in mol_ids).\n",
    "    intensities = pd.DataFrame(0.0, index=mol_ids, columns=range(number_of_bins//BIN_SIZE), dtype=float)\n",
    "    \n",
    "    # Populate the dataframe using each molecule's filename to place data in the correct row.\n",
    "    for index, spectrum in enumerate(spectra):\n",
    "        peaks = spectrum.peaks\n",
    "        for peak in peaks:\n",
    "            if peak[0] <= 1000:\n",
    "                intensities.at[index, round(float(peak[0]))-1] = float(peak[1])\n",
    "    \n",
    "    # Convert populated dataframe into a numpy array for use by neural networks.\n",
    "    np_matrix = intensities.values\n",
    "    return np_matrix\n",
    "\n",
    "binned_spectra = load_master_file(spectra)"
   ]
  },
  {
   "cell_type": "code",
   "execution_count": 32,
   "metadata": {},
   "outputs": [
    {
     "name": "stdout",
     "output_type": "stream",
     "text": [
      "[[0. 0. 0. ... 0. 0. 0.]\n",
      " [0. 0. 0. ... 0. 0. 0.]\n",
      " [0. 0. 0. ... 0. 0. 0.]\n",
      " ...\n",
      " [0. 0. 0. ... 0. 0. 0.]\n",
      " [0. 0. 0. ... 0. 0. 0.]\n",
      " [0. 0. 0. ... 0. 0. 0.]]\n"
     ]
    }
   ],
   "source": [
    "normalised_spectra = np.log(binned_spectra+1)\n",
    "print(normalised_spectra)"
   ]
  },
  {
   "cell_type": "code",
   "execution_count": 34,
   "metadata": {},
   "outputs": [],
   "source": [
    "predicted_fingerprint = spec_fingerprint_model.predict(normalised_spectra)\n",
    "predicted_families = fingerprint_family_model.predict(predicted_fingerprint)"
   ]
  },
  {
   "cell_type": "code",
   "execution_count": 35,
   "metadata": {},
   "outputs": [
    {
     "name": "stdout",
     "output_type": "stream",
     "text": [
      "[[0.03109328 0.07207853 0.01606273 ... 0.00970557 0.49074814 0.23700576]\n",
      " [0.08192425 0.18247652 0.0281545  ... 0.00572589 0.21462008 0.17954497]\n",
      " [0.05943411 0.23582199 0.05601655 ... 0.00229134 0.32919785 0.11122002]\n",
      " ...\n",
      " [0.03424589 0.17623684 0.02856023 ... 0.0085697  0.34152547 0.15714952]\n",
      " [0.01819078 0.08360698 0.01617763 ... 0.01581099 0.52307755 0.18000518]\n",
      " [0.01109693 0.24820817 0.0160438  ... 0.00854864 0.472931   0.11307999]]\n"
     ]
    }
   ],
   "source": [
    "print(predicted_families)"
   ]
  },
  {
   "cell_type": "code",
   "execution_count": 41,
   "metadata": {},
   "outputs": [
    {
     "name": "stdout",
     "output_type": "stream",
     "text": [
      "2.2.4\n",
      "1.12.0\n"
     ]
    }
   ],
   "source": []
  },
  {
   "cell_type": "code",
   "execution_count": null,
   "metadata": {},
   "outputs": [],
   "source": []
  }
 ],
 "metadata": {
  "kernelspec": {
   "display_name": "Python 3",
   "language": "python",
   "name": "python3"
  },
  "language_info": {
   "codemirror_mode": {
    "name": "ipython",
    "version": 3
   },
   "file_extension": ".py",
   "mimetype": "text/x-python",
   "name": "python",
   "nbconvert_exporter": "python",
   "pygments_lexer": "ipython3",
   "version": "3.5.0"
  }
 },
 "nbformat": 4,
 "nbformat_minor": 1
}
